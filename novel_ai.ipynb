{
  "cells": [
    {
      "cell_type": "code",
      "execution_count": null,
      "metadata": {},
      "outputs": [],
      "source": [
        "# 라이브러리 설치\n",
        "!pip install --upgrade google-genai"
      ]
    },
    {
      "cell_type": "code",
      "execution_count": null,
      "metadata": {},
      "outputs": [],
      "source": [
        "import google.genai as genai\n",
        "import textwrap\n",
        "import os\n",
        "\n",
        "API_KEY = 'YOUR_API_KEY_HERE' # <--- 여기에 키를 넣어주세요.\n",
        "\n",
        "print(\"--- API 키 설정 완료 ---\")\n",
        "\n",
        "try:\n",
        "    client = genai.Client(api_key=API_KEY)\n",
        "\n",
        "    model_name = \"gemini-2.5-flash\"\n",
        "\n",
        "    print(f\"--- 클라이언트 및 '{model_name}' 모델 준비 완료 ---\")\n",
        "\n",
        "    # --- 시놉시스 & 플롯 생성 함수 ---\n",
        "    def generate_plot(keywords):\n",
        "        \"\"\"\n",
        "        Gemini 모델을 이용해 웹소설 플롯을 생성합니다.\n",
        "        \"\"\"\n",
        "\n",
        "        prompt = f\"\"\"\n",
        "        당신은 천재 웹소설 작가입니다.\n",
        "        다음 키워드들을 조합해서 독창적이고 흥미로운 웹소설 시놉시스를\n",
        "        1~2문단으로 간결하게 생성해 주세요.\n",
        "        생성된 시놉시스를 통해 플롯도 생성해 주세요.\n",
        "\n",
        "        키워드: \"{keywords}\"\n",
        "\n",
        "        시놉시스:\n",
        "\n",
        "        플롯:\n",
        "        \"\"\"\n",
        "\n",
        "        print(f\"\\n--- [입력된 키워드: {keywords}] ---\")\n",
        "\n",
        "        try:\n",
        "            response = client.models.generate_content(\n",
        "                model=model_name,\n",
        "                contents=prompt\n",
        "            )\n",
        "            print(textwrap.fill(response.text, width=80))\n",
        "\n",
        "        except Exception as e:\n",
        "            print(f\"!!! API 호출 중 오류가 발생했습니다: {e}\")\n",
        "\n",
        "    print(\"\\n--- 실행 시작 ---\")\n",
        "\n",
        "    my_keywords_1 = \"케이팝, 애니 굿즈, 환생, 먼치킨\"\n",
        "    generate_plot(my_keywords_1)\n",
        "\n",
        "    print(\"\\n\" + \"=\"*30 + \"\\n\")\n",
        "\n",
        "    my_keywords_2 = \"만화책 속으로 들어감, 책방 주인, 흑막\"\n",
        "    generate_plot(my_keywords_2)\n",
        "\n",
        "    print(\"\\n\" + \"=\"*30 + \"\\n\")\n",
        "\n",
        "    my_keywords_3 = \"콜라, 귤, 피규어\"\n",
        "    generate_plot(my_keywords_3)\n",
        "\n",
        "except Exception as e:\n",
        "    print(f\"\\n!!! 클라이언트 생성 중 오류가 발생했습니다: {e}\")"
      ]
    }
  ],
  "metadata": {
    "colab": {
      "provenance": []
    },
    "kernelspec": {
      "display_name": "Python 3",
      "name": "python3"
    },
    "language_info": {
      "name": "python"
    }
  },
  "nbformat": 4,
  "nbformat_minor": 0
}
